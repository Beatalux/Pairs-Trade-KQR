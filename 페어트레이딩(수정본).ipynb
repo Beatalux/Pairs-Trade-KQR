{
 "cells": [
  {
   "cell_type": "code",
   "execution_count": 1,
   "metadata": {
    "scrolled": false
   },
   "outputs": [
    {
     "name": "stderr",
     "output_type": "stream",
     "text": [
      "C:\\ProgramData\\Anaconda3\\lib\\site-packages\\fix_yahoo_finance\\__init__.py:0: DeprecationWarning: \n",
      "\n",
      "*** `fix_yahoo_finance` was renamed to `yfinance`. ***\n",
      "Please install and use `yfinance` directly using `pip install yfinance -U`\n",
      "\n",
      "More information: https://github.com/ranaroussi/yfinance\n",
      "\n"
     ]
    }
   ],
   "source": [
    "import matplotlib.pylab as plt\n",
    "import matplotlib.pyplot as plt\n",
    "%matplotlib inline\n",
    "import pandas as pd\n",
    "import pandas_datareader as pdr\n",
    "pd.core.common.is_list_like = pd.api.types.is_list_like\n",
    "from pandas_datareader import data\n",
    "import numpy as np\n",
    "import fix_yahoo_finance\n",
    "import scipy as sp\n",
    "from scipy.optimize import minimize\n",
    "from statsmodels.graphics.tsaplots import plot_acf, plot_pacf\n",
    "import statsmodels.formula.api as sm\n",
    "from statsmodels.sandbox.regression.predstd import wls_prediction_std\n",
    "from scipy.stats import probplot\n",
    "from scipy import stats\n",
    "import datetime"
   ]
  },
  {
   "cell_type": "markdown",
   "metadata": {},
   "source": [
    "종목명을 종목코드로 바꿔서 가져올 수 있게 해주는 함수 정의"
   ]
  },
  {
   "cell_type": "code",
   "execution_count": 2,
   "metadata": {},
   "outputs": [],
   "source": [
    "stock_type = {\n",
    "    'kospi': 'stockMkt',\n",
    "    'kosdaq': 'kosdaqMkt'\n",
    "}\n",
    "def get_code(df, name):\n",
    "  code = df.query(\"name=='{}'\".format(name))['code'].to_string(index=False)\n",
    "  code = code.strip()\n",
    "  return code\n",
    "\n",
    "\n",
    "def get_download_stock(market_type=None):\n",
    "  market_type_param = stock_type[market_type]\n",
    "  download_link = 'http://kind.krx.co.kr/corpgeneral/corpList.do'\n",
    "  download_link = download_link + '?method=download'\n",
    "  download_link = download_link + '&marketType=' + market_type_param\n",
    "\n",
    "  df = pd.read_html(download_link, header=0)[0]\n",
    "  return df;\n",
    "\n",
    "\n",
    "def get_download_kospi():\n",
    "  df = get_download_stock('kospi')\n",
    "  df.종목코드 = df.종목코드.map('{:06d}.KS'.format)\n",
    "  return df\n",
    "\n",
    "\n",
    "def get_download_kosdaq():\n",
    "  df = get_download_stock('kosdaq')\n",
    "  df.종목코드 = df.종목코드.map('{:06d}.KQ'.format)\n",
    "  return df"
   ]
  },
  {
   "cell_type": "code",
   "execution_count": 3,
   "metadata": {
    "scrolled": false
   },
   "outputs": [
    {
     "data": {
      "text/html": [
       "<div>\n",
       "<style scoped>\n",
       "    .dataframe tbody tr th:only-of-type {\n",
       "        vertical-align: middle;\n",
       "    }\n",
       "\n",
       "    .dataframe tbody tr th {\n",
       "        vertical-align: top;\n",
       "    }\n",
       "\n",
       "    .dataframe thead th {\n",
       "        text-align: right;\n",
       "    }\n",
       "</style>\n",
       "<table border=\"1\" class=\"dataframe\">\n",
       "  <thead>\n",
       "    <tr style=\"text-align: right;\">\n",
       "      <th></th>\n",
       "      <th>name</th>\n",
       "      <th>code</th>\n",
       "    </tr>\n",
       "  </thead>\n",
       "  <tbody>\n",
       "    <tr>\n",
       "      <th>0</th>\n",
       "      <td>JS전선</td>\n",
       "      <td>005560.KS</td>\n",
       "    </tr>\n",
       "    <tr>\n",
       "      <th>1</th>\n",
       "      <td>거북선2호</td>\n",
       "      <td>101380.KS</td>\n",
       "    </tr>\n",
       "    <tr>\n",
       "      <th>2</th>\n",
       "      <td>거북선6호</td>\n",
       "      <td>114140.KS</td>\n",
       "    </tr>\n",
       "    <tr>\n",
       "      <th>3</th>\n",
       "      <td>교보메리츠</td>\n",
       "      <td>064900.KS</td>\n",
       "    </tr>\n",
       "    <tr>\n",
       "      <th>4</th>\n",
       "      <td>국제관광공사</td>\n",
       "      <td>028780.KS</td>\n",
       "    </tr>\n",
       "    <tr>\n",
       "      <th>...</th>\n",
       "      <td>...</td>\n",
       "      <td>...</td>\n",
       "    </tr>\n",
       "    <tr>\n",
       "      <th>2296</th>\n",
       "      <td>해성산업</td>\n",
       "      <td>034810.KQ</td>\n",
       "    </tr>\n",
       "    <tr>\n",
       "      <th>2297</th>\n",
       "      <td>해성옵틱스</td>\n",
       "      <td>076610.KQ</td>\n",
       "    </tr>\n",
       "    <tr>\n",
       "      <th>2298</th>\n",
       "      <td>행남사</td>\n",
       "      <td>008800.KQ</td>\n",
       "    </tr>\n",
       "    <tr>\n",
       "      <th>2299</th>\n",
       "      <td>홈센타홀딩스</td>\n",
       "      <td>060560.KQ</td>\n",
       "    </tr>\n",
       "    <tr>\n",
       "      <th>2300</th>\n",
       "      <td>힘스</td>\n",
       "      <td>238490.KQ</td>\n",
       "    </tr>\n",
       "  </tbody>\n",
       "</table>\n",
       "<p>3702 rows × 2 columns</p>\n",
       "</div>"
      ],
      "text/plain": [
       "        name       code\n",
       "0       JS전선  005560.KS\n",
       "1      거북선2호  101380.KS\n",
       "2      거북선6호  114140.KS\n",
       "3      교보메리츠  064900.KS\n",
       "4     국제관광공사  028780.KS\n",
       "...      ...        ...\n",
       "2296    해성산업  034810.KQ\n",
       "2297   해성옵틱스  076610.KQ\n",
       "2298     행남사  008800.KQ\n",
       "2299  홈센타홀딩스  060560.KQ\n",
       "2300      힘스  238490.KQ\n",
       "\n",
       "[3702 rows x 2 columns]"
      ]
     },
     "execution_count": 3,
     "metadata": {},
     "output_type": "execute_result"
    }
   ],
   "source": [
    "\n",
    "kospi_df = get_download_kospi()\n",
    "kosdaq_df = get_download_kosdaq()\n",
    "\n",
    "\n",
    "code_df = pd.concat([kospi_df, kosdaq_df])\n",
    "\n",
    "\n",
    "code_df = code_df[['회사명', '종목코드']]\n",
    "\n",
    "code_df = code_df.rename(columns={'회사명': 'name', '종목코드': 'code'})\n",
    "\n",
    "code_df"
   ]
  },
  {
   "cell_type": "markdown",
   "metadata": {},
   "source": [
    "차트데이터를 가져올 기간과 페어 주식 입력"
   ]
  },
  {
   "cell_type": "code",
   "execution_count": 4,
   "metadata": {},
   "outputs": [],
   "source": [
    "start = datetime.datetime(2020, 1, 1)\n",
    "end = datetime.datetime(2020, 12, 31)\n",
    "stock1 = get_code(code_df, '삼성SDI')\n",
    "stock2 = get_code(code_df, 'LG화학')"
   ]
  },
  {
   "cell_type": "code",
   "execution_count": 5,
   "metadata": {
    "scrolled": true
   },
   "outputs": [],
   "source": [
    "chart_data1 = pdr.DataReader(stock1, \"yahoo\", start, end)\n",
    "chart_data2 = pdr.DataReader(stock2, \"yahoo\", start, end)"
   ]
  },
  {
   "cell_type": "markdown",
   "metadata": {},
   "source": [
    "수정종가 데이터만 추출하기"
   ]
  },
  {
   "cell_type": "code",
   "execution_count": 6,
   "metadata": {},
   "outputs": [],
   "source": [
    "chart_data_1 = chart_data1.iloc[:,[5]]\n",
    "chart_data_2 = chart_data2.iloc[:,[5]]"
   ]
  },
  {
   "cell_type": "markdown",
   "metadata": {},
   "source": [
    "페어 주식 컬럼명을 A,B로 변경"
   ]
  },
  {
   "cell_type": "code",
   "execution_count": 7,
   "metadata": {
    "scrolled": false
   },
   "outputs": [],
   "source": [
    "chart = pd.concat([chart_data_1,chart_data_2],axis=1)\n",
    "chart.columns = ['A','B']"
   ]
  },
  {
   "cell_type": "code",
   "execution_count": 8,
   "metadata": {
    "scrolled": true
   },
   "outputs": [
    {
     "data": {
      "text/plain": [
       "<matplotlib.legend.Legend at 0x166ea42d280>"
      ]
     },
     "execution_count": 8,
     "metadata": {},
     "output_type": "execute_result"
    },
    {
     "data": {
      "image/png": "[encoded data removed]",
      "text/plain": [
       "<Figure size 864x360 with 1 Axes>"
      ]
     },
     "metadata": {
      "needs_background": "light"
     },
     "output_type": "display_data"
    }
   ],
   "source": [
    "fig, ax = plt.subplots(figsize=(12,5))\n",
    "ax.grid(True)\n",
    "plt.plot(chart)\n",
    "plt.legend(['A', 'B'])"
   ]
  },
  {
   "cell_type": "markdown",
   "metadata": {},
   "source": [
    "A, B 수정종가를 상대주가로 변환"
   ]
  },
  {
   "cell_type": "code",
   "execution_count": 9,
   "metadata": {},
   "outputs": [],
   "source": [
    "p1 = (chart['A']-chart.mean(axis=0)['A'])/chart.std(axis=0)['A']\n",
    "p2 = (chart['B']-chart.mean(axis=0)['B'])/chart.std(axis=0)['B']"
   ]
  },
  {
   "cell_type": "markdown",
   "metadata": {},
   "source": [
    "상대주가를 데이터프레임으로 만들기"
   ]
  },
  {
   "cell_type": "code",
   "execution_count": 10,
   "metadata": {},
   "outputs": [],
   "source": [
    "p11 = pd.DataFrame(p1)\n",
    "p22 = pd.DataFrame(p2)\n",
    "result = pd.concat([p11,p22],axis=1)\n",
    "result.columns = ['Ar','Br']"
   ]
  },
  {
   "cell_type": "code",
   "execution_count": 11,
   "metadata": {
    "scrolled": false
   },
   "outputs": [
    {
     "data": {
      "text/plain": [
       "<matplotlib.legend.Legend at 0x166ea38d040>"
      ]
     },
     "execution_count": 11,
     "metadata": {},
     "output_type": "execute_result"
    },
    {
     "data": {
      "image/png": "[encoded data removed]",
      "text/plain": [
       "<Figure size 864x360 with 1 Axes>"
      ]
     },
     "metadata": {
      "needs_background": "light"
     },
     "output_type": "display_data"
    }
   ],
   "source": [
    "fig, ax = plt.subplots(figsize=(12,5))\n",
    "ax.grid(True)\n",
    "plt.plot(p1,color = 'green', label='relative price of A')\n",
    "plt.plot(p2,color = 'purple', label='relative price of B')\n",
    "plt.legend()"
   ]
  },
  {
   "cell_type": "markdown",
   "metadata": {},
   "source": [
    "스프레드 정의, 2*시그마 정의"
   ]
  },
  {
   "cell_type": "code",
   "execution_count": 12,
   "metadata": {},
   "outputs": [],
   "source": [
    "r = p1-p2\n",
    "P = 2*r.std()"
   ]
  },
  {
   "cell_type": "code",
   "execution_count": 13,
   "metadata": {
    "scrolled": true
   },
   "outputs": [
    {
     "data": {
      "text/html": [
       "<div>\n",
       "<style scoped>\n",
       "    .dataframe tbody tr th:only-of-type {\n",
       "        vertical-align: middle;\n",
       "    }\n",
       "\n",
       "    .dataframe tbody tr th {\n",
       "        vertical-align: top;\n",
       "    }\n",
       "\n",
       "    .dataframe thead th {\n",
       "        text-align: right;\n",
       "    }\n",
       "</style>\n",
       "<table border=\"1\" class=\"dataframe\">\n",
       "  <thead>\n",
       "    <tr style=\"text-align: right;\">\n",
       "      <th></th>\n",
       "      <th>Ar</th>\n",
       "      <th>Br</th>\n",
       "      <th>spread</th>\n",
       "    </tr>\n",
       "    <tr>\n",
       "      <th>Date</th>\n",
       "      <th></th>\n",
       "      <th></th>\n",
       "      <th></th>\n",
       "    </tr>\n",
       "  </thead>\n",
       "  <tbody>\n",
       "    <tr>\n",
       "      <th>2020-01-02</th>\n",
       "      <td>-1.536354</td>\n",
       "      <td>-1.216101</td>\n",
       "      <td>-0.320254</td>\n",
       "    </tr>\n",
       "    <tr>\n",
       "      <th>2020-01-03</th>\n",
       "      <td>-1.566950</td>\n",
       "      <td>-1.233196</td>\n",
       "      <td>-0.333753</td>\n",
       "    </tr>\n",
       "    <tr>\n",
       "      <th>2020-01-06</th>\n",
       "      <td>-1.556751</td>\n",
       "      <td>-1.255991</td>\n",
       "      <td>-0.300760</td>\n",
       "    </tr>\n",
       "    <tr>\n",
       "      <th>2020-01-07</th>\n",
       "      <td>-1.541453</td>\n",
       "      <td>-1.233196</td>\n",
       "      <td>-0.308257</td>\n",
       "    </tr>\n",
       "    <tr>\n",
       "      <th>2020-01-08</th>\n",
       "      <td>-1.566950</td>\n",
       "      <td>-1.284484</td>\n",
       "      <td>-0.282466</td>\n",
       "    </tr>\n",
       "    <tr>\n",
       "      <th>...</th>\n",
       "      <td>...</td>\n",
       "      <td>...</td>\n",
       "      <td>...</td>\n",
       "    </tr>\n",
       "    <tr>\n",
       "      <th>2020-12-23</th>\n",
       "      <td>1.747562</td>\n",
       "      <td>1.587613</td>\n",
       "      <td>0.159949</td>\n",
       "    </tr>\n",
       "    <tr>\n",
       "      <th>2020-12-24</th>\n",
       "      <td>1.839348</td>\n",
       "      <td>1.655996</td>\n",
       "      <td>0.183352</td>\n",
       "    </tr>\n",
       "    <tr>\n",
       "      <th>2020-12-28</th>\n",
       "      <td>1.798554</td>\n",
       "      <td>1.633202</td>\n",
       "      <td>0.165353</td>\n",
       "    </tr>\n",
       "    <tr>\n",
       "      <th>2020-12-29</th>\n",
       "      <td>2.226891</td>\n",
       "      <td>1.627503</td>\n",
       "      <td>0.599388</td>\n",
       "    </tr>\n",
       "    <tr>\n",
       "      <th>2020-12-30</th>\n",
       "      <td>2.502251</td>\n",
       "      <td>1.690188</td>\n",
       "      <td>0.812063</td>\n",
       "    </tr>\n",
       "  </tbody>\n",
       "</table>\n",
       "<p>248 rows × 3 columns</p>\n",
       "</div>"
      ],
      "text/plain": [
       "                  Ar        Br    spread\n",
       "Date                                    \n",
       "2020-01-02 -1.536354 -1.216101 -0.320254\n",
       "2020-01-03 -1.566950 -1.233196 -0.333753\n",
       "2020-01-06 -1.556751 -1.255991 -0.300760\n",
       "2020-01-07 -1.541453 -1.233196 -0.308257\n",
       "2020-01-08 -1.566950 -1.284484 -0.282466\n",
       "...              ...       ...       ...\n",
       "2020-12-23  1.747562  1.587613  0.159949\n",
       "2020-12-24  1.839348  1.655996  0.183352\n",
       "2020-12-28  1.798554  1.633202  0.165353\n",
       "2020-12-29  2.226891  1.627503  0.599388\n",
       "2020-12-30  2.502251  1.690188  0.812063\n",
       "\n",
       "[248 rows x 3 columns]"
      ]
     },
     "execution_count": 13,
     "metadata": {},
     "output_type": "execute_result"
    }
   ],
   "source": [
    "result['spread'] = result['Ar']-result['Br']\n",
    "result"
   ]
  },
  {
   "cell_type": "markdown",
   "metadata": {},
   "source": [
    "P값을 통해 정상성 판별하기"
   ]
  },
  {
   "cell_type": "code",
   "execution_count": 14,
   "metadata": {
    "scrolled": false
   },
   "outputs": [
    {
     "name": "stdout",
     "output_type": "stream",
     "text": [
      "adf: -1.9274159301780933\n",
      "pvalue: 0.3192757165678238\n",
      "data is not stationary\n"
     ]
    }
   ],
   "source": [
    "from statsmodels.tsa.stattools import adfuller\n",
    "x=r.dropna()\n",
    "resultX = adfuller(x)\n",
    "print('adf:',resultX[0])\n",
    "print('pvalue:',resultX[1])\n",
    "if resultX[1]<0.05:\n",
    "    print(\"data is stationary\")\n",
    "else:\n",
    "    print(\"data is not stationary\")"
   ]
  },
  {
   "cell_type": "code",
   "execution_count": 15,
   "metadata": {
    "scrolled": true
   },
   "outputs": [
    {
     "name": "stdout",
     "output_type": "stream",
     "text": [
      "2*sigma =  0.5264\n"
     ]
    },
    {
     "data": {
      "text/plain": [
       "<matplotlib.lines.Line2D at 0x166ea37a280>"
      ]
     },
     "execution_count": 15,
     "metadata": {},
     "output_type": "execute_result"
    },
    {
     "data": {
      "image/png": "[encoded data removed]",
      "text/plain": [
       "<Figure size 432x288 with 1 Axes>"
      ]
     },
     "metadata": {
      "needs_background": "light"
     },
     "output_type": "display_data"
    }
   ],
   "source": [
    "plt.hist(r,bins=100,density=True,alpha=0.5,histtype='stepfilled')\n",
    "print('2*sigma = ',round(2*r.std(),4))\n",
    "plt.axvline(x=round(2*r.std(),4), color='r', linestyle='--', linewidth=3)\n",
    "plt.axvline(x=-round(2*r.std(),4), color='r', linestyle='--', linewidth=3)"
   ]
  },
  {
   "cell_type": "markdown",
   "metadata": {},
   "source": [
    "위 히스토그램이 정규분포를 보이는지 판별하는 코드"
   ]
  },
  {
   "cell_type": "code",
   "execution_count": 16,
   "metadata": {
    "scrolled": false
   },
   "outputs": [
    {
     "data": {
      "image/png": "[encoded data removed]",
      "text/plain": [
       "<Figure size 432x288 with 1 Axes>"
      ]
     },
     "metadata": {
      "needs_background": "light"
     },
     "output_type": "display_data"
    },
    {
     "name": "stdout",
     "output_type": "stream",
     "text": [
      "Normal Distribution\n"
     ]
    }
   ],
   "source": [
    "mdl = sm.ols(formula='Ar~Br', data=result)\n",
    "resid=mdl.fit().resid\n",
    "plt.figure()\n",
    "probplot(resid, plot=plt)\n",
    "plt.show()\n",
    "k = stats.shapiro(resid)\n",
    "if k[1] < 0.05:\n",
    "    print('Not Normal Distribution')\n",
    "else:\n",
    "    print(\"Normal Distribution\")"
   ]
  },
  {
   "cell_type": "code",
   "execution_count": 17,
   "metadata": {
    "scrolled": false
   },
   "outputs": [
    {
     "data": {
      "image/png": "[encoded data removed]",
      "text/plain": [
       "<Figure size 864x360 with 1 Axes>"
      ]
     },
     "metadata": {
      "needs_background": "light"
     },
     "output_type": "display_data"
    }
   ],
   "source": [
    "fig, ax = plt.subplots(figsize=(12,5))\n",
    "plt.plot(r, color='blue', label='rA-rB')\n",
    "ax.grid(True)\n",
    "ax.axhline(y=0, color='black', linestyle='-')\n",
    "ax.axhline(y=P, color='red', linestyle='-') \n",
    "ax.axhline(y=-P, color='red', linestyle='-') \n",
    "plt.legend(loc=2)\n",
    "plt.show()"
   ]
  },
  {
   "cell_type": "code",
   "execution_count": 18,
   "metadata": {},
   "outputs": [],
   "source": [
    "result1 = pd.concat([chart,result],axis=1)"
   ]
  },
  {
   "cell_type": "code",
   "execution_count": 19,
   "metadata": {
    "scrolled": false
   },
   "outputs": [
    {
     "data": {
      "text/html": [
       "<div>\n",
       "<style scoped>\n",
       "    .dataframe tbody tr th:only-of-type {\n",
       "        vertical-align: middle;\n",
       "    }\n",
       "\n",
       "    .dataframe tbody tr th {\n",
       "        vertical-align: top;\n",
       "    }\n",
       "\n",
       "    .dataframe thead th {\n",
       "        text-align: right;\n",
       "    }\n",
       "</style>\n",
       "<table border=\"1\" class=\"dataframe\">\n",
       "  <thead>\n",
       "    <tr style=\"text-align: right;\">\n",
       "      <th></th>\n",
       "      <th>Ar</th>\n",
       "      <th>Br</th>\n",
       "      <th>spread</th>\n",
       "      <th>residual</th>\n",
       "    </tr>\n",
       "    <tr>\n",
       "      <th>Date</th>\n",
       "      <th></th>\n",
       "      <th></th>\n",
       "      <th></th>\n",
       "      <th></th>\n",
       "    </tr>\n",
       "  </thead>\n",
       "  <tbody>\n",
       "    <tr>\n",
       "      <th>2020-01-02</th>\n",
       "      <td>-1.536354</td>\n",
       "      <td>-1.216101</td>\n",
       "      <td>-0.320254</td>\n",
       "      <td>-0.320254</td>\n",
       "    </tr>\n",
       "    <tr>\n",
       "      <th>2020-01-03</th>\n",
       "      <td>-1.566950</td>\n",
       "      <td>-1.233196</td>\n",
       "      <td>-0.333753</td>\n",
       "      <td>-0.333753</td>\n",
       "    </tr>\n",
       "    <tr>\n",
       "      <th>2020-01-06</th>\n",
       "      <td>-1.556751</td>\n",
       "      <td>-1.255991</td>\n",
       "      <td>-0.300760</td>\n",
       "      <td>-0.300760</td>\n",
       "    </tr>\n",
       "    <tr>\n",
       "      <th>2020-01-07</th>\n",
       "      <td>-1.541453</td>\n",
       "      <td>-1.233196</td>\n",
       "      <td>-0.308257</td>\n",
       "      <td>-0.308257</td>\n",
       "    </tr>\n",
       "    <tr>\n",
       "      <th>2020-01-08</th>\n",
       "      <td>-1.566950</td>\n",
       "      <td>-1.284484</td>\n",
       "      <td>-0.282466</td>\n",
       "      <td>-0.282466</td>\n",
       "    </tr>\n",
       "    <tr>\n",
       "      <th>...</th>\n",
       "      <td>...</td>\n",
       "      <td>...</td>\n",
       "      <td>...</td>\n",
       "      <td>...</td>\n",
       "    </tr>\n",
       "    <tr>\n",
       "      <th>2020-12-23</th>\n",
       "      <td>1.747562</td>\n",
       "      <td>1.587613</td>\n",
       "      <td>0.159949</td>\n",
       "      <td>0.159949</td>\n",
       "    </tr>\n",
       "    <tr>\n",
       "      <th>2020-12-24</th>\n",
       "      <td>1.839348</td>\n",
       "      <td>1.655996</td>\n",
       "      <td>0.183352</td>\n",
       "      <td>0.183352</td>\n",
       "    </tr>\n",
       "    <tr>\n",
       "      <th>2020-12-28</th>\n",
       "      <td>1.798554</td>\n",
       "      <td>1.633202</td>\n",
       "      <td>0.165353</td>\n",
       "      <td>0.165353</td>\n",
       "    </tr>\n",
       "    <tr>\n",
       "      <th>2020-12-29</th>\n",
       "      <td>2.226891</td>\n",
       "      <td>1.627503</td>\n",
       "      <td>0.599388</td>\n",
       "      <td>0.599388</td>\n",
       "    </tr>\n",
       "    <tr>\n",
       "      <th>2020-12-30</th>\n",
       "      <td>2.502251</td>\n",
       "      <td>1.690188</td>\n",
       "      <td>0.812063</td>\n",
       "      <td>0.812063</td>\n",
       "    </tr>\n",
       "  </tbody>\n",
       "</table>\n",
       "<p>248 rows × 4 columns</p>\n",
       "</div>"
      ],
      "text/plain": [
       "                  Ar        Br    spread  residual\n",
       "Date                                              \n",
       "2020-01-02 -1.536354 -1.216101 -0.320254 -0.320254\n",
       "2020-01-03 -1.566950 -1.233196 -0.333753 -0.333753\n",
       "2020-01-06 -1.556751 -1.255991 -0.300760 -0.300760\n",
       "2020-01-07 -1.541453 -1.233196 -0.308257 -0.308257\n",
       "2020-01-08 -1.566950 -1.284484 -0.282466 -0.282466\n",
       "...              ...       ...       ...       ...\n",
       "2020-12-23  1.747562  1.587613  0.159949  0.159949\n",
       "2020-12-24  1.839348  1.655996  0.183352  0.183352\n",
       "2020-12-28  1.798554  1.633202  0.165353  0.165353\n",
       "2020-12-29  2.226891  1.627503  0.599388  0.599388\n",
       "2020-12-30  2.502251  1.690188  0.812063  0.812063\n",
       "\n",
       "[248 rows x 4 columns]"
      ]
     },
     "execution_count": 19,
     "metadata": {},
     "output_type": "execute_result"
    }
   ],
   "source": [
    "sm = result1.mean()['spread']\n",
    "result['residual'] = result['spread']-sm\n",
    "result"
   ]
  },
  {
   "cell_type": "code",
   "execution_count": 20,
   "metadata": {
    "scrolled": true
   },
   "outputs": [],
   "source": [
    "r1 = pd.DataFrame(result['residual'][0:-2])\n",
    "r2 = pd.DataFrame(result['residual'][1:-1])"
   ]
  },
  {
   "cell_type": "code",
   "execution_count": 21,
   "metadata": {},
   "outputs": [],
   "source": [
    "def to_npc(data1,data2):\n",
    "    a = data1.to_numpy()\n",
    "    A = pd.DataFrame(a)\n",
    "    b= data2.to_numpy()\n",
    "    B = pd.DataFrame(b)\n",
    "    c = pd.concat([A,B],axis=1)\n",
    "    corra = c.corr()\n",
    "    return corra.iloc[0,1]\n"
   ]
  },
  {
   "cell_type": "code",
   "execution_count": 23,
   "metadata": {},
   "outputs": [],
   "source": [
    "rd = pd.DataFrame(r)"
   ]
  },
  {
   "cell_type": "markdown",
   "metadata": {},
   "source": [
    "CC 추정하기"
   ]
  },
  {
   "cell_type": "code",
   "execution_count": 24,
   "metadata": {
    "scrolled": true
   },
   "outputs": [
    {
     "name": "stdout",
     "output_type": "stream",
     "text": [
      "0.9692729785319536\n"
     ]
    }
   ],
   "source": [
    "cov = np.cov(result['Ar'],result['Br'])\n",
    "var = np.var(result['Br'])\n",
    "CC = cov[1][0]/var\n",
    "print(CC)"
   ]
  },
  {
   "cell_type": "markdown",
   "metadata": {},
   "source": [
    "이하는 중간발표때 사용한 백테스팅 과정"
   ]
  },
  {
   "cell_type": "markdown",
   "metadata": {},
   "source": [
    "+2시그마 선에서 진입할 때"
   ]
  },
  {
   "cell_type": "code",
   "execution_count": 25,
   "metadata": {},
   "outputs": [
    {
     "data": {
      "text/html": [
       "<div>\n",
       "<style scoped>\n",
       "    .dataframe tbody tr th:only-of-type {\n",
       "        vertical-align: middle;\n",
       "    }\n",
       "\n",
       "    .dataframe tbody tr th {\n",
       "        vertical-align: top;\n",
       "    }\n",
       "\n",
       "    .dataframe thead th {\n",
       "        text-align: right;\n",
       "    }\n",
       "</style>\n",
       "<table border=\"1\" class=\"dataframe\">\n",
       "  <thead>\n",
       "    <tr style=\"text-align: right;\">\n",
       "      <th></th>\n",
       "      <th>0</th>\n",
       "    </tr>\n",
       "    <tr>\n",
       "      <th>Date</th>\n",
       "      <th></th>\n",
       "    </tr>\n",
       "  </thead>\n",
       "  <tbody>\n",
       "    <tr>\n",
       "      <th>2020-05-26</th>\n",
       "      <td>0.700851</td>\n",
       "    </tr>\n",
       "    <tr>\n",
       "      <th>2020-05-27</th>\n",
       "      <td>0.571710</td>\n",
       "    </tr>\n",
       "    <tr>\n",
       "      <th>2020-05-28</th>\n",
       "      <td>0.550409</td>\n",
       "    </tr>\n",
       "    <tr>\n",
       "      <th>2020-05-29</th>\n",
       "      <td>0.539012</td>\n",
       "    </tr>\n",
       "    <tr>\n",
       "      <th>2020-06-01</th>\n",
       "      <td>0.579059</td>\n",
       "    </tr>\n",
       "    <tr>\n",
       "      <th>2020-06-02</th>\n",
       "      <td>0.625552</td>\n",
       "    </tr>\n",
       "    <tr>\n",
       "      <th>2020-06-03</th>\n",
       "      <td>0.553416</td>\n",
       "    </tr>\n",
       "    <tr>\n",
       "      <th>2020-06-09</th>\n",
       "      <td>0.549534</td>\n",
       "    </tr>\n",
       "    <tr>\n",
       "      <th>2020-11-10</th>\n",
       "      <td>0.538435</td>\n",
       "    </tr>\n",
       "    <tr>\n",
       "      <th>2020-12-29</th>\n",
       "      <td>0.599388</td>\n",
       "    </tr>\n",
       "    <tr>\n",
       "      <th>2020-12-30</th>\n",
       "      <td>0.812063</td>\n",
       "    </tr>\n",
       "  </tbody>\n",
       "</table>\n",
       "</div>"
      ],
      "text/plain": [
       "                   0\n",
       "Date                \n",
       "2020-05-26  0.700851\n",
       "2020-05-27  0.571710\n",
       "2020-05-28  0.550409\n",
       "2020-05-29  0.539012\n",
       "2020-06-01  0.579059\n",
       "2020-06-02  0.625552\n",
       "2020-06-03  0.553416\n",
       "2020-06-09  0.549534\n",
       "2020-11-10  0.538435\n",
       "2020-12-29  0.599388\n",
       "2020-12-30  0.812063"
      ]
     },
     "execution_count": 25,
     "metadata": {},
     "output_type": "execute_result"
    }
   ],
   "source": [
    "rd[rd[0]>P]"
   ]
  },
  {
   "cell_type": "code",
   "execution_count": 26,
   "metadata": {},
   "outputs": [
    {
     "data": {
      "text/html": [
       "<div>\n",
       "<style scoped>\n",
       "    .dataframe tbody tr th:only-of-type {\n",
       "        vertical-align: middle;\n",
       "    }\n",
       "\n",
       "    .dataframe tbody tr th {\n",
       "        vertical-align: top;\n",
       "    }\n",
       "\n",
       "    .dataframe thead th {\n",
       "        text-align: right;\n",
       "    }\n",
       "</style>\n",
       "<table border=\"1\" class=\"dataframe\">\n",
       "  <thead>\n",
       "    <tr style=\"text-align: right;\">\n",
       "      <th></th>\n",
       "      <th>0</th>\n",
       "    </tr>\n",
       "    <tr>\n",
       "      <th>Date</th>\n",
       "      <th></th>\n",
       "    </tr>\n",
       "  </thead>\n",
       "  <tbody>\n",
       "    <tr>\n",
       "      <th>2020-02-03</th>\n",
       "      <td>0.004918</td>\n",
       "    </tr>\n",
       "    <tr>\n",
       "      <th>2020-07-13</th>\n",
       "      <td>0.004128</td>\n",
       "    </tr>\n",
       "    <tr>\n",
       "      <th>2020-07-23</th>\n",
       "      <td>0.002920</td>\n",
       "    </tr>\n",
       "    <tr>\n",
       "      <th>2020-10-14</th>\n",
       "      <td>-0.003626</td>\n",
       "    </tr>\n",
       "    <tr>\n",
       "      <th>2020-10-21</th>\n",
       "      <td>0.002967</td>\n",
       "    </tr>\n",
       "  </tbody>\n",
       "</table>\n",
       "</div>"
      ],
      "text/plain": [
       "                   0\n",
       "Date                \n",
       "2020-02-03  0.004918\n",
       "2020-07-13  0.004128\n",
       "2020-07-23  0.002920\n",
       "2020-10-14 -0.003626\n",
       "2020-10-21  0.002967"
      ]
     },
     "execution_count": 26,
     "metadata": {},
     "output_type": "execute_result"
    }
   ],
   "source": [
    "a = -0.005<rd[0]\n",
    "b = 0.005>rd[0]\n",
    "rd[a&b]"
   ]
  },
  {
   "cell_type": "code",
   "execution_count": 27,
   "metadata": {},
   "outputs": [],
   "source": [
    "dates = pd.date_range('6/9/2020', '7/13/2020')"
   ]
  },
  {
   "cell_type": "code",
   "execution_count": 28,
   "metadata": {},
   "outputs": [],
   "source": [
    "dfa = pd.DataFrame(chart, index=dates, columns=['A'])\n",
    "Qs = 100\n",
    "Q = dfa.loc['6/9/2020']*Qs"
   ]
  },
  {
   "cell_type": "code",
   "execution_count": 29,
   "metadata": {},
   "outputs": [],
   "source": [
    "dfb = pd.DataFrame(chart, index=dates, columns=['B'])\n",
    "W = Q*CC\n",
    "Ws = round(W/int(dfb.loc['6/9/2020']),0)"
   ]
  },
  {
   "cell_type": "code",
   "execution_count": 30,
   "metadata": {},
   "outputs": [
    {
     "name": "stdout",
     "output_type": "stream",
     "text": [
      "수익률:  A    0.229387\n",
      "Name: 2020-06-09 00:00:00, dtype: float64\n"
     ]
    }
   ],
   "source": [
    "ac=int(+dfa.loc['6/9/2020']-dfa.loc['7/13/2020'])*Qs\n",
    "bc=int(-dfb.loc['6/9/2020']+dfb.loc['7/13/2020'])*Ws\n",
    "print('수익률: ',(ac+bc)/Q)\n"
   ]
  },
  {
   "cell_type": "code",
   "execution_count": 31,
   "metadata": {},
   "outputs": [],
   "source": [
    "#1. 차분 데이터에서 매매 시기 찾아서 차분 데이터에 적용"
   ]
  },
  {
   "cell_type": "code",
   "execution_count": 32,
   "metadata": {},
   "outputs": [
    {
     "name": "stdout",
     "output_type": "stream",
     "text": [
      "수익률:  A   -0.03284\n",
      "Name: 2020-10-13 00:00:00, dtype: float64\n"
     ]
    }
   ],
   "source": [
    "# 10/13 사서 11/13 매도하는 전략\n",
    "dates = pd.date_range('10/13/2020', '11/13/2020')\n",
    "dfa = pd.DataFrame(chart, index=dates, columns=['A'])\n",
    "Qs = 100\n",
    "Q = dfa.loc['10/13/2020']*Qs\n",
    "dfb = pd.DataFrame(chart, index=dates, columns=['B'])\n",
    "W = Q*CC\n",
    "Ws = round(W/int(dfb.loc['10/13/2020']),0)\n",
    "ac=int(+dfa.loc['10/13/2020']-dfa.loc['11/13/2020'])*Qs\n",
    "bc=int(-dfb.loc['10/13/2020']+dfb.loc['11/13/2020'])*Ws\n",
    "print('수익률: ',(ac+bc)/Q)"
   ]
  },
  {
   "cell_type": "code",
   "execution_count": 81,
   "metadata": {},
   "outputs": [],
   "source": [
    "#2. 차분 데이터에서 매매 시기 찾아서 기본 데이터에 적용"
   ]
  },
  {
   "cell_type": "code",
   "execution_count": 33,
   "metadata": {},
   "outputs": [
    {
     "name": "stdout",
     "output_type": "stream",
     "text": [
      "수익률:  A   -0.009854\n",
      "Name: 2020-09-17 00:00:00, dtype: float64\n"
     ]
    }
   ],
   "source": [
    "#9/17 매수 , 10/14 매도\n",
    "dates = pd.date_range('9/17/2020', '10/14/2020')\n",
    "dfa = pd.DataFrame(chart, index=dates, columns=['A'])\n",
    "Qs = 100\n",
    "Q = dfa.loc['9/17/2020']*Qs\n",
    "dfb = pd.DataFrame(chart, index=dates, columns=['B'])\n",
    "W = Q*CC\n",
    "Ws = round(W/int(dfb.loc['9/17/2020']),0)\n",
    "ac=int(+dfa.loc['9/17/2020']-dfa.loc['10/14/2020'])*Qs\n",
    "bc=int(-dfb.loc['9/17/2020']+dfb.loc['10/14/2020'])*Ws\n",
    "print('수익률: ',(ac+bc)/Q)"
   ]
  }
 ],
 "metadata": {
  "kernelspec": {
   "display_name": "Python 3",
   "language": "python",
   "name": "python3"
  },
  "language_info": {
   "codemirror_mode": {
    "name": "ipython",
    "version": 3
   },
   "file_extension": ".py",
   "mimetype": "text/x-python",
   "name": "python",
   "nbconvert_exporter": "python",
   "pygments_lexer": "ipython3",
   "version": "3.8.3"
  }
 },
 "nbformat": 4,
 "nbformat_minor": 4
}
